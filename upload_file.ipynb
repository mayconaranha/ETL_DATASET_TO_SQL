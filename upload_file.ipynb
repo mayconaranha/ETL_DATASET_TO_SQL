{
 "cells": [
  {
   "cell_type": "code",
   "execution_count": 1,
   "id": "a73a61c9-5e89-445b-bd01-b856987cc0a2",
   "metadata": {},
   "outputs": [],
   "source": [
    "import pandas as pd\n",
    "from sqlalchemy import create_engine, Table, MetaData, func, cast, Date, Integer, Text, String, DateTime, Float\n",
    "from sqlalchemy.types import Integer, Text, String, DateTime, Float\n",
    "import urllib"
   ]
  },
  {
   "cell_type": "code",
   "execution_count": 2,
   "id": "bb9984cb-c5a9-4fd9-89cc-273c8bd7ccea",
   "metadata": {},
   "outputs": [
    {
     "name": "stdout",
     "output_type": "stream",
     "text": [
      "Conexão ao SQL Server bem-sucedida!\n"
     ]
    }
   ],
   "source": [
    "# Informações para conexão com o banco\n",
    "server = 'DESKTOP-SD7B5S4\\\\SQLEXPRESS'  # Pode ser o nome do servidor ou IP\n",
    "database = 'PRATICAS'\n",
    "\n",
    "# String de conexão usando pyodbc\n",
    "conn_str = (\n",
    "    r'Driver={SQL Server};'\n",
    "    r'Server=' + server + ';'\n",
    "    r'Database=' + database + ';'\n",
    ")\n",
    "\n",
    "# URL de conexão para o SQLAlchemy\n",
    "conn_url = urllib.parse.quote_plus(conn_str)\n",
    "engine = create_engine(f'mssql+pyodbc:///?odbc_connect={conn_url}', use_setinputsizes=False)\n",
    "\n",
    "# Tentativa de conectar ao banco de dados\n",
    "try:\n",
    "    # Usando o método connect() para testar a conexão\n",
    "    with engine.connect() as connect:\n",
    "        print(\"Conexão ao SQL Server bem-sucedida!\")\n",
    "except Exception as e:\n",
    "    print(\"Erro ao conectar ao SQL Server:\", e)\n",
    "    exit(1)  "
   ]
  },
  {
   "cell_type": "code",
   "execution_count": 3,
   "id": "2109c41b-9e87-4320-aa3e-ed6dc694b976",
   "metadata": {},
   "outputs": [],
   "source": [
    "# Caminho do arquivo\n",
    "file_path = //CAMINHO DO ARQUIVO//,
    "\n",
    "# Colunas e tipos para a importação do Excel\n",
    "lista_colunas = [\n",
    "    'Order ID',\n",
    "    'Order Date',\n",
    "    'Ship Date',\n",
    "    'EmailID',\n",
    "    'Geography',\n",
    "    'Category',\n",
    "    'Product Name',\n",
    "    'Sales',\n",
    "    'Quantity',\n",
    "    'Profit'\n",
    "]\n",
    "\n",
    "tipos_colunas = {\n",
    "    'Order ID': str,\n",
    "    'Order Date': str,\n",
    "    'Ship Date': str,\n",
    "    'EmailID': str,\n",
    "    'Geography': str,\n",
    "    'Category': str,\n",
    "    'Product Name': str,\n",
    "    'Sales': float,\n",
    "    'Quantity': int,\n",
    "    'Profit': float\n",
    "}\n",
    "\n",
    "# Dataframe\n",
    "df = pd.read_excel(\n",
    "    file_path,\n",
    "    usecols=lista_colunas,\n",
    "    dtype=tipos_colunas\n",
    ")\n",
    "\n",
    "# Mapeamento entre as colunas do DataFrame e as colunas da tabela SQL Server\n",
    "mapping = {\n",
    "    'Order ID': 'ORDER_ID',\n",
    "    'Order Date': 'ORDER_DATE',\n",
    "    'Ship Date': 'SHIP_DATE',\n",
    "    'EmailID': 'EMAILID',\n",
    "    'Geography': 'GEOGRAPHY',\n",
    "    'Category': 'CATEGORY',\n",
    "    'Product Name': 'PRODUCT_NAME',\n",
    "    'Sales': 'SALES',\n",
    "    'Quantity': 'QUANTITY',\n",
    "    'Profit': 'PROFIT',\n",
    "    # Adicione mais mapeamentos conforme necessário\n",
    "}\n",
    "\n",
    "# Transformação de data\n",
    "df['Order Date'] = pd.to_datetime(df['Order Date'])\n",
    "df['Ship Date'] = pd.to_datetime(df['Ship Date'])\n",
    "# Arredonda as colunas 'Sales' e 'Profit' para 2 casas decimais\n",
    "df['Sales'] = df['Sales'].round(2)\n",
    "df['Profit'] = df['Profit'].round(2)\n",
    "\n",
    "# Aplicar o mapeamento para renomear as colunas do DataFrame\n",
    "df.rename(columns=mapping, inplace=True)"
   ]
  },
  {
   "cell_type": "code",
   "execution_count": 4,
   "id": "ec8b905d-025e-4294-a5af-8ac93bee70dd",
   "metadata": {},
   "outputs": [
    {
     "name": "stdout",
     "output_type": "stream",
     "text": [
      "Registros deletados com sucesso da tabela TBL_D_AMAZON_SALES entre 2011-01-07 00:00:00 e 2014-12-31 00:00:00.\n"
     ]
    }
   ],
   "source": [
    "# Variáveis de data min/max\n",
    "vardata = pd.read_excel(file_path)\n",
    "min_date = vardata['Order Date'].min()\n",
    "max_date = vardata['Order Date'].max()\n",
    "\n",
    "# Carrega a metadados do banco de dados\n",
    "metadata = MetaData()\n",
    "metadata.reflect(bind=engine)\n",
    "\n",
    "# Escolhe a tabela na qual você deseja deletar registros\n",
    "table_name = 'TBL_D_AMAZON_SALES'\n",
    "table = Table(table_name, metadata, autoload=True, autoload_with=engine)\n",
    "\n",
    "# Realiza a operação de delete\n",
    "conn = engine.connect()\n",
    "auto_commit_enabled = engine.echo\n",
    "delete_statement = table.delete().where(cast(table.c.ORDER_DATE, Date).between(min_date, max_date))\n",
    "\n",
    "# Execute a consulta de exclusão\n",
    "try:\n",
    "    result = conn.execute(delete_statement)\n",
    "    conn.commit()\n",
    "    print(f\"Registros deletados com sucesso da tabela {table_name} entre {min_date} e {max_date}.\")\n",
    "except Exception as e:\n",
    "    print(f\"Erro ao executar a consulta de exclusão: {e}\")\n"
   ]
  },
  {
   "cell_type": "code",
   "execution_count": 5,
   "id": "a6e83818-4be2-47a7-b110-5de84ff44d7f",
   "metadata": {
    "editable": true,
    "slideshow": {
     "slide_type": ""
    },
    "tags": []
   },
   "outputs": [
    {
     "name": "stdout",
     "output_type": "stream",
     "text": [
      "Dados inseridos com sucesso na tabela TBL_D_AMAZON_SALES.\n"
     ]
    }
   ],
   "source": [
    "# Inserção dos dados\n",
    "if not df.empty:\n",
    "    try:\n",
    "        df.to_sql(table_name, con=engine, if_exists='append', index=False)\n",
    "        print(f\"Dados inseridos com sucesso na tabela {table_name}.\")\n",
    "    except Exception as e:\n",
    "        print(f\"Erro ao inserir dados: {e}\")\n",
    "else:\n",
    "    print(\"Nenhum dado para inserir.\")\n",
    "conn.close()"
   ]
  },
  {
   "cell_type": "code",
   "execution_count": null,
   "id": "641b80a5-7914-4c45-9ede-c5b43011f97e",
   "metadata": {},
   "outputs": [],
   "source": []
  }
 ],
 "metadata": {
  "kernelspec": {
   "display_name": "Python 3 (ipykernel)",
   "language": "python",
   "name": "python3"
  },
  "language_info": {
   "codemirror_mode": {
    "name": "ipython",
    "version": 3
   },
   "file_extension": ".py",
   "mimetype": "text/x-python",
   "name": "python",
   "nbconvert_exporter": "python",
   "pygments_lexer": "ipython3",
   "version": "3.11.7"
  }
 },
 "nbformat": 4,
 "nbformat_minor": 5
}
